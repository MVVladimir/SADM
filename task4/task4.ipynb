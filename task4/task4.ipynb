{
 "cells": [
  {
   "cell_type": "code",
   "execution_count": 1,
   "metadata": {},
   "outputs": [],
   "source": [
    "import pandas as pd\n",
    "import numpy as np\n",
    "from collections import defaultdict\n",
    "from queue import SimpleQueue\n",
    "import math"
   ]
  },
  {
   "cell_type": "code",
   "execution_count": 2,
   "metadata": {},
   "outputs": [],
   "source": [
    "def find_r1_and_r2(l: dict, A: np.array) -> dict:\n",
    "    for row in A:\n",
    "        l[row[0]][0] += 1\n",
    "        l[row[1]][1] += 1\n",
    "    return l"
   ]
  },
  {
   "cell_type": "code",
   "execution_count": 3,
   "metadata": {},
   "outputs": [],
   "source": [
    "def find_r1to4(l: dict, A: np.array) -> dict:\n",
    "    for row in A:\n",
    "        main = row[0]\n",
    "        sub = row[1]\n",
    "        l[main][0] += 1\n",
    "        l[sub][1] += 1\n",
    "        for subrow in A:\n",
    "            if subrow[0] == sub:\n",
    "                l[main][2] += 1\n",
    "                l[subrow[1]][3] += 1\n",
    "    return l\n"
   ]
  },
  {
   "cell_type": "code",
   "execution_count": 4,
   "metadata": {},
   "outputs": [],
   "source": [
    "def find_r5(d: dict, A: np.array) -> dict:\n",
    "    q = SimpleQueue()\n",
    "    q.put(1)\n",
    "\n",
    "    r5 = {}\n",
    "\n",
    "    while not q.empty():\n",
    "        main = q.get()\n",
    "        l = []\n",
    "        for row in A:\n",
    "            if row[0] == main:\n",
    "                l.append(row[1])\n",
    "                q.put(row[1])\n",
    "        if len(l) > 1:\n",
    "            for elem in l:\n",
    "                d[elem][4] += l.__len__() - 1\n",
    "\n",
    "    return d\n"
   ]
  },
  {
   "cell_type": "code",
   "execution_count": 15,
   "metadata": {},
   "outputs": [],
   "source": [
    "def entropy_calc(graph: np.array) -> float:\n",
    "    def set_def():\n",
    "        return [0, 0, 0, 0, 0]\n",
    "\n",
    "    l = defaultdict(set_def)\n",
    "\n",
    "    find_r1to4(l, graph)\n",
    "    find_r5(l, graph)\n",
    "\n",
    "    l = pd.DataFrame(l) # здесь будут колонка -- объект, строка -- сотояние\n",
    "    l = l.to_numpy().T # А здесь они снова перевернутся, строка -- объект\n",
    "\n",
    "    print(f\"Матрица связности графа A = \\n{l}\")\n",
    "\n",
    "    n = len(l) # количество объектов\n",
    "\n",
    "    s = 0.0 # сумма\n",
    "    for elem in l:\n",
    "        for cond in elem:\n",
    "            if cond > 0:\n",
    "                p = cond / (n - 1)\n",
    "                logp = math.log10(p)\n",
    "                s += p * logp\n",
    "\n",
    "    return -s # с минусом\n",
    "    "
   ]
  },
  {
   "cell_type": "code",
   "execution_count": 16,
   "metadata": {},
   "outputs": [],
   "source": [
    "def pipeline(files: list):\n",
    "    for i, file in enumerate(files):\n",
    "        A = pd.read_csv(file).to_numpy()\n",
    "        print(f\"=== Задача №{i} ==========\")\n",
    "        entropy = entropy_calc(A)\n",
    "        print(f\"Ответ: энтропия равна {entropy:.4f} \\n\")"
   ]
  },
  {
   "cell_type": "code",
   "execution_count": 17,
   "metadata": {},
   "outputs": [
    {
     "name": "stdout",
     "output_type": "stream",
     "text": [
      "=== Задача №0 ==========\n",
      "Матрица связности графа A = \n",
      "[[1 0 3 0 0]\n",
      " [3 1 0 0 0]\n",
      " [0 1 0 1 2]\n",
      " [0 1 0 1 2]\n",
      " [0 1 0 1 2]]\n",
      "Ответ: энтропия равна 1.8431 \n",
      "\n",
      "=== Задача №1 ==========\n",
      "Матрица связности графа A = \n",
      "[[1 0 2 0 0]\n",
      " [2 1 0 0 0]\n",
      " [0 1 0 1 1]\n",
      " [0 1 0 1 1]]\n",
      "Ответ: энтропия равна 1.5071 \n",
      "\n",
      "=== Задача №2 ==========\n",
      "Матрица связности графа A = \n",
      "[[3 0 0 0 0]\n",
      " [0 1 0 0 2]\n",
      " [0 1 0 0 2]\n",
      " [0 1 0 0 2]]\n",
      "Ответ: энтропия равна 0.8293 \n",
      "\n"
     ]
    }
   ],
   "source": [
    "files = [\"./graph_task4.csv\", \"./graph_task4_1.csv\", \"./graph_task4_2.csv\"]\n",
    "pipeline(files)"
   ]
  },
  {
   "cell_type": "markdown",
   "metadata": {},
   "source": [
    "С задачами решенными ранее в домашней работе сходится."
   ]
  }
 ],
 "metadata": {
  "kernelspec": {
   "display_name": "Python 3.9.6 64-bit",
   "language": "python",
   "name": "python3"
  },
  "language_info": {
   "codemirror_mode": {
    "name": "ipython",
    "version": 3
   },
   "file_extension": ".py",
   "mimetype": "text/x-python",
   "name": "python",
   "nbconvert_exporter": "python",
   "pygments_lexer": "ipython3",
   "version": "3.9.6"
  },
  "orig_nbformat": 4,
  "vscode": {
   "interpreter": {
    "hash": "0dcd72d83d275a2c92221b0d8b7d79efa6197eddcd61bb8ea90916dd58c9e3eb"
   }
  }
 },
 "nbformat": 4,
 "nbformat_minor": 2
}
