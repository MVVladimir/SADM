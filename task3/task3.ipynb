{
 "cells": [
  {
   "cell_type": "code",
   "execution_count": 1,
   "metadata": {},
   "outputs": [
    {
     "data": {
      "text/plain": [
       "array([[0, 2],\n",
       "       [0, 1],\n",
       "       [1, 3]], dtype=int64)"
      ]
     },
     "execution_count": 1,
     "metadata": {},
     "output_type": "execute_result"
    }
   ],
   "source": [
    "import pandas as pd\n",
    "import numpy as np\n",
    "\n",
    "A = pd.read_csv(\"./grah.csv\").to_numpy()\n",
    "A"
   ]
  },
  {
   "cell_type": "code",
   "execution_count": 2,
   "metadata": {},
   "outputs": [
    {
     "name": "stdout",
     "output_type": "stream",
     "text": [
      "r1 = {0, 1}, r2 = {1, 2, 3}\n"
     ]
    }
   ],
   "source": [
    "r1 = set()\n",
    "r2 = set()\n",
    "\n",
    "for row in A:\n",
    "    r1.add(row[0])\n",
    "    r2.add(row[1])\n",
    "\n",
    "print(f\"r1 = {r1}, r2 = {r2}\")"
   ]
  },
  {
   "cell_type": "code",
   "execution_count": 3,
   "metadata": {},
   "outputs": [
    {
     "name": "stdout",
     "output_type": "stream",
     "text": [
      "r3 = {0}, r4 = {3}\n"
     ]
    }
   ],
   "source": [
    "r3 = set()\n",
    "r4 = set()\n",
    "\n",
    "for row in A:\n",
    "    main = row[0]\n",
    "    sub = row[1]\n",
    "    for subrow in A:\n",
    "        if subrow[0] == sub:\n",
    "            r3.add(main)\n",
    "            r4.add(subrow[1])\n",
    "\n",
    "print(f\"r3 = {r3}, r4 = {r4}\")"
   ]
  },
  {
   "cell_type": "code",
   "execution_count": 7,
   "metadata": {},
   "outputs": [
    {
     "data": {
      "text/plain": [
       "{0: [2, 1]}"
      ]
     },
     "execution_count": 7,
     "metadata": {},
     "output_type": "execute_result"
    }
   ],
   "source": [
    "from queue import SimpleQueue\n",
    "\n",
    "q = SimpleQueue()\n",
    "q.put(0)\n",
    "\n",
    "r5 = {}\n",
    "\n",
    "while not q.empty():\n",
    "    main = q.get()\n",
    "    l = []\n",
    "    for row in A:\n",
    "        if row[0] == main:\n",
    "            l.append(row[1])\n",
    "            q.put(row[1])\n",
    "    if len(l) > 1:\n",
    "        r5[main] = l\n",
    "\n",
    "r5"
   ]
  },
  {
   "cell_type": "code",
   "execution_count": 5,
   "metadata": {},
   "outputs": [
    {
     "data": {
      "image/png": "[encoded data removed]",
      "text/plain": [
       "<Figure size 432x288 with 1 Axes>"
      ]
     },
     "metadata": {},
     "output_type": "display_data"
    }
   ],
   "source": [
    "import networkx as nx\n",
    "import matplotlib.pyplot as plt\n",
    "\n",
    "G = nx.Graph()\n",
    "G.add_edges_from(A)\n",
    "nx.draw_networkx(G)\n",
    "plt.show()"
   ]
  }
 ],
 "metadata": {
  "kernelspec": {
   "display_name": "Python 3.9.6 64-bit",
   "language": "python",
   "name": "python3"
  },
  "language_info": {
   "codemirror_mode": {
    "name": "ipython",
    "version": 3
   },
   "file_extension": ".py",
   "mimetype": "text/x-python",
   "name": "python",
   "nbconvert_exporter": "python",
   "pygments_lexer": "ipython3",
   "version": "3.9.6"
  },
  "orig_nbformat": 4,
  "vscode": {
   "interpreter": {
    "hash": "0dcd72d83d275a2c92221b0d8b7d79efa6197eddcd61bb8ea90916dd58c9e3eb"
   }
  }
 },
 "nbformat": 4,
 "nbformat_minor": 2
}
