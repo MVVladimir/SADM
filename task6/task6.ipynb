{
 "cells": [
  {
   "cell_type": "code",
   "execution_count": 1,
   "metadata": {},
   "outputs": [],
   "source": [
    "import pandas as pd\n",
    "import numpy as np\n",
    "import json"
   ]
  },
  {
   "cell_type": "code",
   "execution_count": 2,
   "metadata": {},
   "outputs": [
    {
     "data": {
      "text/plain": [
       "[0.336, 0.295, 0.369]"
      ]
     },
     "execution_count": 2,
     "metadata": {},
     "output_type": "execute_result"
    }
   ],
   "source": [
    "from task6 import task\n",
    "\n",
    "s = \"[[1, 2, 1.5], [3,2,3], [2, 2, 1.5]]\"\n",
    "task(s)"
   ]
  },
  {
   "cell_type": "code",
   "execution_count": 3,
   "metadata": {},
   "outputs": [
    {
     "name": "stdout",
     "output_type": "stream",
     "text": [
      "[0.468, 0.169, 0.363]\n",
      "Result is as Expected: True\n"
     ]
    }
   ],
   "source": [
    "json_str = '[[1,3,2],[2,2,2],[1.5,3,1.5]]'\n",
    "result = task(json_str)\n",
    "expected = [0.468, 0.169, 0.363]\n",
    "print(result)\n",
    "print('Result is as Expected:', result == expected)"
   ]
  },
  {
   "cell_type": "code",
   "execution_count": 4,
   "metadata": {},
   "outputs": [
    {
     "data": {
      "text/plain": [
       "[0.336, 0.295, 0.369]"
      ]
     },
     "execution_count": 4,
     "metadata": {},
     "output_type": "execute_result"
    }
   ],
   "source": [
    "s = \"[[1,2,1.5],[3,2,3],[2,2,1.5]]\"\n",
    "task(s)"
   ]
  },
  {
   "cell_type": "code",
   "execution_count": 20,
   "metadata": {},
   "outputs": [],
   "source": [
    "df = pd.read_csv(\"test2.csv\", header=None).to_numpy()"
   ]
  },
  {
   "cell_type": "code",
   "execution_count": 23,
   "metadata": {},
   "outputs": [
    {
     "data": {
      "text/plain": [
       "array([[1. , 2. , 1.5],\n",
       "       [3. , 2. , 3. ],\n",
       "       [2. , 2. , 1.5]])"
      ]
     },
     "execution_count": 23,
     "metadata": {},
     "output_type": "execute_result"
    }
   ],
   "source": [
    "df"
   ]
  },
  {
   "cell_type": "code",
   "execution_count": 24,
   "metadata": {},
   "outputs": [
    {
     "data": {
      "text/plain": [
       "array([1. , 2. , 1.5])"
      ]
     },
     "execution_count": 24,
     "metadata": {},
     "output_type": "execute_result"
    }
   ],
   "source": [
    "df[0]"
   ]
  },
  {
   "cell_type": "code",
   "execution_count": 31,
   "metadata": {},
   "outputs": [],
   "source": [
    "r = []\n",
    "for i in range(df.shape[1]):\n",
    "    r_i = []\n",
    "    for j in range(df.shape[0]):\n",
    "        r_ij = []\n",
    "        for k in range(df.shape[0]):\n",
    "            if df[j][i] == df[k][i]:\n",
    "                r_ij.append(0.5)\n",
    "            elif df[j][i] > df[k][i]:\n",
    "                r_ij.append(0)\n",
    "            else:\n",
    "                r_ij.append(1)\n",
    "        r_i.append(r_ij)\n",
    "    r.append(r_i)"
   ]
  },
  {
   "cell_type": "code",
   "execution_count": 34,
   "metadata": {},
   "outputs": [],
   "source": [
    "r = np.array(r)"
   ]
  },
  {
   "cell_type": "code",
   "execution_count": 59,
   "metadata": {},
   "outputs": [
    {
     "data": {
      "text/plain": [
       "array([[0.5       , 0.83333333, 0.66666667],\n",
       "       [0.16666667, 0.5       , 0.16666667],\n",
       "       [0.33333333, 0.83333333, 0.5       ]])"
      ]
     },
     "execution_count": 59,
     "metadata": {},
     "output_type": "execute_result"
    }
   ],
   "source": [
    "r.mean(0)"
   ]
  },
  {
   "cell_type": "code",
   "execution_count": 60,
   "metadata": {},
   "outputs": [],
   "source": [
    "x = r.mean(0)"
   ]
  },
  {
   "cell_type": "code",
   "execution_count": 61,
   "metadata": {},
   "outputs": [],
   "source": [
    "k = np.array([1/3, 1/3, 1/3])\n",
    "k_old = k.copy()"
   ]
  },
  {
   "cell_type": "code",
   "execution_count": 62,
   "metadata": {},
   "outputs": [],
   "source": [
    "E = 0.001\n",
    "while np.linalg.norm(k - k_old) < E:\n",
    "    k_old = k.copy()\n",
    "    y = x @ k\n",
    "    lmd = np.array([1.0, 1.0, 1.0]) @ (x @ k)\n",
    "    k = (1 / lmd) * y\n",
    "    "
   ]
  },
  {
   "cell_type": "code",
   "execution_count": 63,
   "metadata": {},
   "outputs": [
    {
     "data": {
      "text/plain": [
       "array([0.44444444, 0.18518519, 0.37037037])"
      ]
     },
     "execution_count": 63,
     "metadata": {},
     "output_type": "execute_result"
    }
   ],
   "source": [
    "k"
   ]
  }
 ],
 "metadata": {
  "kernelspec": {
   "display_name": "base",
   "language": "python",
   "name": "python3"
  },
  "language_info": {
   "codemirror_mode": {
    "name": "ipython",
    "version": 3
   },
   "file_extension": ".py",
   "mimetype": "text/x-python",
   "name": "python",
   "nbconvert_exporter": "python",
   "pygments_lexer": "ipython3",
   "version": "3.9.7"
  },
  "orig_nbformat": 4,
  "vscode": {
   "interpreter": {
    "hash": "e4cce46d6be9934fbd27f9ca0432556941ea5bdf741d4f4d64c6cd7f8dfa8fba"
   }
  }
 },
 "nbformat": 4,
 "nbformat_minor": 2
}
