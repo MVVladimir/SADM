{
 "cells": [
  {
   "cell_type": "code",
   "execution_count": 1,
   "metadata": {},
   "outputs": [],
   "source": [
    "import numpy as np\n",
    "\n",
    "import json\n",
    "from io import StringIO"
   ]
  },
  {
   "cell_type": "code",
   "execution_count": 2,
   "metadata": {},
   "outputs": [],
   "source": [
    "SEQ_LEN = 10"
   ]
  },
  {
   "cell_type": "code",
   "execution_count": 3,
   "metadata": {},
   "outputs": [],
   "source": [
    "def make_row(visited: set, cur: int) -> np.array:\n",
    "    row = []\n",
    "    for i in range(SEQ_LEN):\n",
    "        row.append(1 if i+1 in visited else 0)\n",
    "    return np.array(row)\n",
    "\n",
    "def make_matrix(data: list) -> np.array:\n",
    "    visited = set()\n",
    "    matrix = list()\n",
    "\n",
    "    for elem in data:\n",
    "        if type(elem) == str:\n",
    "            visited.add(int(elem))\n",
    "            row = make_row(visited=visited, cur=int(elem))\n",
    "            matrix.append({'num': int(elem), 'row': row})\n",
    "        else:\n",
    "            for subelem in elem:\n",
    "                visited.add(int(subelem))\n",
    "            for subelem in elem:\n",
    "                row = make_row(visited=visited, cur=int(subelem))\n",
    "                matrix.append({'num': int(subelem), 'row': row})\n",
    "\n",
    "    matrix.sort(key=(lambda x: x['num']))\n",
    "    raw = [elem['row'] for elem in matrix]\n",
    "\n",
    "    return np.array(raw)"
   ]
  },
  {
   "cell_type": "code",
   "execution_count": 24,
   "metadata": {},
   "outputs": [],
   "source": [
    "def find_controversies(json_path: str) -> list:\n",
    "    data = json.loads(open(json_path).read())\n",
    "\n",
    "    print(data['input1'])\n",
    "    print(data['input2'])\n",
    "\n",
    "    matrix1 = make_matrix(data['input1'])\n",
    "    matrix2 = make_matrix(data['input2'])\n",
    "\n",
    "    matrix12 = matrix1 * matrix2\n",
    "    matrix12T = matrix1.T * matrix2.T\n",
    "\n",
    "    criterion = np.logical_or(matrix12, matrix12T)\n",
    "\n",
    "    answer = []\n",
    "    for i in range(criterion.shape[0]):\n",
    "        for j in range(i):\n",
    "            if not criterion[i][j]:\n",
    "                answer.append([j+1, i+1])\n",
    "    \n",
    "    # Testing\n",
    "    flag = True\n",
    "    for row in data['output12']:\n",
    "        flag *= ([int(row[0]), int(row[1])] in answer )\n",
    "        if not flag:\n",
    "            print(f\"Error on {row}\")\n",
    "    if flag:\n",
    "        print(\"Tests completed successfully!\")\n",
    "\n",
    "    return answer"
   ]
  },
  {
   "cell_type": "code",
   "execution_count": 31,
   "metadata": {},
   "outputs": [],
   "source": [
    "def task(str1, str2) -> list:\n",
    "\n",
    "    data = json.loads('{\"input1\":' + str1 + ', \"input2\":' + str2 + '}') \n",
    "\n",
    "    input1 = []\n",
    "    input2 = []\n",
    "\n",
    "    for s in data['input1']:\n",
    "        if type(s) == str:\n",
    "            input1.append(s)\n",
    "        if type(s) == list:\n",
    "            sub = []\n",
    "            for subs in s:\n",
    "                sub.append(subs)\n",
    "            input1.append(sub)\n",
    "\n",
    "    for s in data['input2']:\n",
    "        if type(s) == str:\n",
    "            input2.append(s)\n",
    "        if type(s) == list:\n",
    "            sub = []\n",
    "            for subs in s:\n",
    "                sub.append(subs)\n",
    "            input2.append(sub)\n",
    "\n",
    "    matrix1 = make_matrix(input1)\n",
    "    matrix2 = make_matrix(input2)\n",
    "\n",
    "    matrix12 = matrix1 * matrix2\n",
    "    matrix12T = matrix1.T * matrix2.T\n",
    "\n",
    "    criterion = np.logical_or(matrix12, matrix12T)\n",
    "\n",
    "    answer = []\n",
    "    for i in range(criterion.shape[0]):\n",
    "        for j in range(i):\n",
    "            if not criterion[i][j]:\n",
    "                answer.append([str(j+1), str(i+1)])\n",
    "\n",
    "    return answer"
   ]
  },
  {
   "cell_type": "markdown",
   "metadata": {},
   "source": [
    "Вызывать функцию так:"
   ]
  },
  {
   "cell_type": "code",
   "execution_count": 32,
   "metadata": {},
   "outputs": [
    {
     "name": "stdout",
     "output_type": "stream",
     "text": [
      "True\n"
     ]
    }
   ],
   "source": [
    "str1 = '[\"1\", [\"2\",\"3\"],\"4\", [\"5\", \"6\", \"7\"], \"8\", \"9\", \"10\"]'\n",
    "str2 = '[[\"1\",\"2\"], [\"3\",\"4\",\"5\"], \"6\", \"7\", \"9\", [\"8\",\"10\"]]'\n",
    "res = [[\"8\", \"9\"]]\n",
    "\n",
    "r = task(str1, str2)\n",
    "\n",
    "print(r == res)"
   ]
  },
  {
   "cell_type": "code",
   "execution_count": 25,
   "metadata": {},
   "outputs": [
    {
     "name": "stdout",
     "output_type": "stream",
     "text": [
      "['1', ['2', '3'], '4', ['5', '6', '7'], '8', '9', '10']\n",
      "[['1', '2'], ['3', '4', '5'], '6', '7', '9', ['8', '10']]\n",
      "Tests completed successfully!\n"
     ]
    },
    {
     "data": {
      "text/plain": [
       "[[8, 9]]"
      ]
     },
     "execution_count": 25,
     "metadata": {},
     "output_type": "execute_result"
    }
   ],
   "source": [
    "find_controversies(\"example.json\")"
   ]
  },
  {
   "cell_type": "code",
   "execution_count": null,
   "metadata": {},
   "outputs": [],
   "source": []
  }
 ],
 "metadata": {
  "kernelspec": {
   "display_name": "Python 3.9.6 64-bit",
   "language": "python",
   "name": "python3"
  },
  "language_info": {
   "codemirror_mode": {
    "name": "ipython",
    "version": 3
   },
   "file_extension": ".py",
   "mimetype": "text/x-python",
   "name": "python",
   "nbconvert_exporter": "python",
   "pygments_lexer": "ipython3",
   "version": "3.9.6"
  },
  "orig_nbformat": 4,
  "vscode": {
   "interpreter": {
    "hash": "0dcd72d83d275a2c92221b0d8b7d79efa6197eddcd61bb8ea90916dd58c9e3eb"
   }
  }
 },
 "nbformat": 4,
 "nbformat_minor": 2
}
